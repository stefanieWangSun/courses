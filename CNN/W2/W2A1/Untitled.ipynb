{
 "cells": [
  {
   "cell_type": "code",
   "execution_count": 1,
   "metadata": {},
   "outputs": [
    {
     "name": "stdout",
     "output_type": "stream",
     "text": [
      "Residual_Networks.ipynb\n",
      "Untitled.ipynb\n",
      "__pycache__/\n",
      "__pycache__/public_tests.cpython-38.pyc\n",
      "__pycache__/resnets_utils.cpython-38.pyc\n",
      "__pycache__/outputs.cpython-38.pyc\n",
      "__pycache__/test_utils.cpython-38.pyc\n",
      "datasets/\n",
      "datasets/train_signs.h5\n",
      "datasets/test_signs.h5\n",
      "datasets/._train_signs.h5\n",
      "datasets/._test_signs.h5\n",
      "images/\n",
      "images/my_image_5.jpeg\n",
      "images/._idblock3_kiank.png\n",
      "images/._my_image.jpg\n",
      "images/vanishing_grad_kiank.png\n",
      "images/my_image_1.jpeg\n",
      "images/idblock2_kiank.png\n",
      "images/._signs_data_kiank.png\n",
      "images/skip_connection_kiank.png\n",
      "images/sant1.jpg\n",
      "images/my_image_3.jpeg\n",
      "images/._resnet_kiank.png\n",
      "images/._convblock_kiank.png\n",
      "images/._vanishing_grad_kiank.png\n",
      "images/convblock_kiank.png\n",
      "images/resnet_kiank.png\n",
      "images/._my_image_1.jpeg\n",
      "images/signs_data_kiank.png\n",
      "images/._my_image_5.jpeg\n",
      "images/._sant1.jpg\n",
      "images/._skip_connection_kiank.png\n",
      "images/._my_image_3.jpeg\n",
      "images/idblock3_kiank.png\n",
      "images/._idblock2_kiank.png\n",
      "images/my_image.jpg\n",
      "models/\n",
      "models/checkpoint\n",
      "models/resnet50.index\n",
      "models/resnet50.data-00000-of-00001\n",
      "outputs.py\n",
      "public_tests.py\n",
      "resnet50.h5\n",
      "resnets_utils.py\n",
      "test_utils.py\n"
     ]
    }
   ],
   "source": [
    "!tar cvfz allfiles.tar.gz *"
   ]
  },
  {
   "cell_type": "code",
   "execution_count": null,
   "metadata": {},
   "outputs": [],
   "source": []
  }
 ],
 "metadata": {
  "kernelspec": {
   "display_name": "Python 3",
   "language": "python",
   "name": "python3"
  },
  "language_info": {
   "codemirror_mode": {
    "name": "ipython",
    "version": 3
   },
   "file_extension": ".py",
   "mimetype": "text/x-python",
   "name": "python",
   "nbconvert_exporter": "python",
   "pygments_lexer": "ipython3",
   "version": "3.8.10"
  }
 },
 "nbformat": 4,
 "nbformat_minor": 2
}
