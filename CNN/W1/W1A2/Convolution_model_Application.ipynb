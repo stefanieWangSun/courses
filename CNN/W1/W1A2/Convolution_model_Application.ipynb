{
 "cells": [
  {
   "cell_type": "markdown",
   "metadata": {},
   "source": [
    "# Convolutional Neural Networks: Application\n",
    "\n",
    "Welcome to Course 4's second assignment! In this notebook, you will:\n",
    "\n",
    "- Create a mood classifer using the TF Keras Sequential API\n",
    "- Build a ConvNet to identify sign language digits using the TF Keras Functional API\n",
    "\n",
    "**After this assignment you will be able to:**\n",
    "\n",
    "- Build and train a ConvNet in TensorFlow for a __binary__ classification problem\n",
    "- Build and train a ConvNet in TensorFlow for a __multiclass__ classification problem\n",
    "- Explain different use cases for the Sequential and Functional APIs\n",
    "\n",
    "To complete this assignment, you should already be familiar with TensorFlow. If you are not, please refer back to the **TensorFlow Tutorial** of the third week of Course 2 (\"**Improving deep neural networks**\").\n",
    "\n",
    "## Important Note on Submission to the AutoGrader\n",
    "\n",
    "Before submitting your assignment to the AutoGrader, please make sure you are not doing the following:\n",
    "\n",
    "1. You have not added any _extra_ `print` statement(s) in the assignment.\n",
    "2. You have not added any _extra_ code cell(s) in the assignment.\n",
    "3. You have not changed any of the function parameters.\n",
    "4. You are not using any global variables inside your graded exercises. Unless specifically instructed to do so, please refrain from it and use the local variables instead.\n",
    "5. You are not changing the assignment code where it is not required, like creating _extra_ variables.\n",
    "\n",
    "If you do any of the following, you will get something like, `Grader Error: Grader feedback not found` (or similarly unexpected) error upon submitting your assignment. Before asking for help/debugging the errors in your assignment, check for these first. If this is the case, and you don't remember the changes you have made, you can get a fresh copy of the assignment by following these [instructions](https://www.coursera.org/learn/convolutional-neural-networks/supplement/DS4yP/h-ow-to-refresh-your-workspace)."
   ]
  },
  {
   "cell_type": "markdown",
   "metadata": {},
   "source": [
    "## Table of Contents\n",
    "\n",
    "- [1 - Packages](#1)\n",
    "    - [1.1 - Load the Data and Split the Data into Train/Test Sets](#1-1)\n",
    "- [2 - Layers in TF Keras](#2)\n",
    "- [3 - The Sequential API](#3)\n",
    "    - [3.1 - Create the Sequential Model](#3-1)\n",
    "        - [Exercise 1 - happyModel](#ex-1)\n",
    "    - [3.2 - Train and Evaluate the Model](#3-2)\n",
    "- [4 - The Functional API](#4)\n",
    "    - [4.1 - Load the SIGNS Dataset](#4-1)\n",
    "    - [4.2 - Split the Data into Train/Test Sets](#4-2)\n",
    "    - [4.3 - Forward Propagation](#4-3)\n",
    "        - [Exercise 2 - convolutional_model](#ex-2)\n",
    "    - [4.4 - Train the Model](#4-4)\n",
    "- [5 - History Object](#5)\n",
    "- [6 - Bibliography](#6)"
   ]
  },
  {
   "cell_type": "markdown",
   "metadata": {},
   "source": [
    "<a name='1'></a>\n",
    "## 1 - Packages\n",
    "\n",
    "As usual, begin by loading in the packages."
   ]
  },
  {
   "cell_type": "code",
   "execution_count": null,
   "metadata": {
    "deletable": false,
    "editable": false
   },
   "outputs": [],
   "source": [
    "### v1.1"
   ]
  },
  {
   "cell_type": "code",
   "execution_count": 2,
   "metadata": {},
   "outputs": [],
   "source": [
    "import math\n",
    "import numpy as np\n",
    "import h5py\n",
    "import matplotlib.pyplot as plt\n",
    "from matplotlib.pyplot import imread\n",
    "import scipy\n",
    "from PIL import Image\n",
    "import pandas as pd\n",
    "import tensorflow as tf\n",
    "import tensorflow.keras.layers as tfl\n",
    "from tensorflow.python.framework import ops\n",
    "from cnn_utils import *\n",
    "from test_utils import summary, comparator\n",
    "\n",
    "%matplotlib inline\n",
    "np.random.seed(1)"
   ]
  },
  {
   "cell_type": "markdown",
   "metadata": {},
   "source": [
    "<a name='1-1'></a>\n",
    "### 1.1 - Load the Data and Split the Data into Train/Test Sets\n",
    "\n",
    "You'll be using the Happy House dataset for this part of the assignment, which contains images of peoples' faces. Your task will be to build a ConvNet that determines whether the people in the images are smiling or not -- because they only get to enter the house if they're smiling!  "
   ]
  },
  {
   "cell_type": "code",
   "execution_count": 3,
   "metadata": {},
   "outputs": [
    {
     "name": "stdout",
     "output_type": "stream",
     "text": [
      "number of training examples = 600\n",
      "number of test examples = 150\n",
      "X_train shape: (600, 64, 64, 3)\n",
      "Y_train shape: (600, 1)\n",
      "X_test shape: (150, 64, 64, 3)\n",
      "Y_test shape: (150, 1)\n"
     ]
    }
   ],
   "source": [
    "X_train_orig, Y_train_orig, X_test_orig, Y_test_orig, classes = load_happy_dataset()\n",
    "\n",
    "# Normalize image vectors\n",
    "X_train = X_train_orig/255.\n",
    "X_test = X_test_orig/255.\n",
    "\n",
    "# Reshape\n",
    "Y_train = Y_train_orig.T\n",
    "Y_test = Y_test_orig.T\n",
    "\n",
    "print (\"number of training examples = \" + str(X_train.shape[0]))\n",
    "print (\"number of test examples = \" + str(X_test.shape[0]))\n",
    "print (\"X_train shape: \" + str(X_train.shape))\n",
    "print (\"Y_train shape: \" + str(Y_train.shape))\n",
    "print (\"X_test shape: \" + str(X_test.shape))\n",
    "print (\"Y_test shape: \" + str(Y_test.shape))"
   ]
  },
  {
   "cell_type": "markdown",
   "metadata": {},
   "source": [
    "You can display the images contained in the dataset. Images are **64x64** pixels in RGB format (3 channels)."
   ]
  },
  {
   "cell_type": "code",
   "execution_count": 4,
   "metadata": {},
   "outputs": [
    {
     "data": {
      "image/png": "[encoded data removed]",
      "text/plain": [
       "<Figure size 432x288 with 1 Axes>"
      ]
     },
     "metadata": {
      "needs_background": "light"
     },
     "output_type": "display_data"
    }
   ],
   "source": [
    "index = 124\n",
    "plt.imshow(X_train_orig[index]) #display sample training image\n",
    "plt.show()"
   ]
  },
  {
   "cell_type": "markdown",
   "metadata": {},
   "source": [
    "<a name='2'></a>\n",
    "## 2 - Layers in TF Keras \n",
    "\n",
    "In the previous assignment, you created layers manually in numpy. In TF Keras, you don't have to write code directly to create layers. Rather, TF Keras has pre-defined layers you can use. \n",
    "\n",
    "When you create a layer in TF Keras, you are creating a function that takes some input and transforms it into an output you can reuse later. Nice and easy! "
   ]
  },
  {
   "cell_type": "markdown",
   "metadata": {},
   "source": [
    "<a name='3'></a>\n",
    "## 3 - The Sequential API\n",
    "\n",
    "In the previous assignment, you built helper functions using `numpy` to understand the mechanics behind convolutional neural networks. Most practical applications of deep learning today are built using programming frameworks, which have many built-in functions you can simply call. Keras is a high-level abstraction built on top of TensorFlow, which allows for even more simplified and optimized model creation and training. \n",
    "\n",
    "For the first part of this assignment, you'll create a model using TF Keras' Sequential API, which allows you to build layer by layer, and is ideal for building models where each layer has **exactly one** input tensor and **one** output tensor. \n",
    "\n",
    "As you'll see, using the Sequential API is simple and straightforward, but is only appropriate for simpler, more straightforward tasks. Later in this notebook you'll spend some time building with a more flexible, powerful alternative: the Functional API. \n",
    " "
   ]
  },
  {
   "cell_type": "markdown",
   "metadata": {},
   "source": [
    "<a name='3-1'></a>\n",
    "### 3.1 - Create the Sequential Model\n",
    "\n",
    "As mentioned earlier, the TensorFlow Keras Sequential API can be used to build simple models with layer operations that proceed in a sequential order. \n",
    "\n",
    "You can also add layers incrementally to a Sequential model with the `.add()` method, or remove them using the `.pop()` method, much like you would in a regular Python list.\n",
    "\n",
    "Actually, you can think of a Sequential model as behaving like a list of layers. Like Python lists, Sequential layers are ordered, and the order in which they are specified matters.  If your model is non-linear or contains layers with multiple inputs or outputs, a Sequential model wouldn't be the right choice!\n",
    "\n",
    "For any layer construction in Keras, you'll need to specify the input shape in advance. This is because in Keras, the shape of the weights is based on the shape of the inputs. The weights are only created when the model first sees some input data. Sequential models can be created by passing a list of layers to the Sequential constructor, like you will do in the next assignment.\n",
    "\n",
    "<a name='ex-1'></a>\n",
    "### Exercise 1 - happyModel\n",
    "\n",
    "Implement the `happyModel` function below to build the following model: `ZEROPAD2D -> CONV2D -> BATCHNORM -> RELU -> MAXPOOL -> FLATTEN -> DENSE`. Take help from [tf.keras.layers](https://www.tensorflow.org/api_docs/python/tf/keras/layers) \n",
    "\n",
    "Also, plug in the following parameters for all the steps:\n",
    "\n",
    " - [ZeroPadding2D](https://www.tensorflow.org/api_docs/python/tf/keras/layers/ZeroPadding2D): padding 3, input shape 64 x 64 x 3\n",
    " - [Conv2D](https://www.tensorflow.org/api_docs/python/tf/keras/layers/Conv2D): Use 32 7x7 filters, stride 1\n",
    " - [BatchNormalization](https://www.tensorflow.org/api_docs/python/tf/keras/layers/BatchNormalization): for axis 3\n",
    " - [ReLU](https://www.tensorflow.org/api_docs/python/tf/keras/layers/ReLU)\n",
    " - [MaxPool2D](https://www.tensorflow.org/api_docs/python/tf/keras/layers/MaxPool2D): Using default parameters\n",
    " - [Flatten](https://www.tensorflow.org/api_docs/python/tf/keras/layers/Flatten) the previous output.\n",
    " - Fully-connected ([Dense](https://www.tensorflow.org/api_docs/python/tf/keras/layers/Dense)) layer: Apply a fully connected layer with 1 neuron and a sigmoid activation. \n",
    " \n",
    " \n",
    " **Hint:**\n",
    " \n",
    " Use **tfl** as shorthand for **tensorflow.keras.layers**"
   ]
  },
  {
   "cell_type": "code",
   "execution_count": 5,
   "metadata": {
    "deletable": false,
    "nbgrader": {
     "cell_type": "code",
     "checksum": "95d28b191f257bdd5b70c7b8952559d5",
     "grade": false,
     "grade_id": "cell-0e56d3fc28b69aec",
     "locked": false,
     "schema_version": 3,
     "solution": true,
     "task": false
    }
   },
   "outputs": [],
   "source": [
    "# GRADED FUNCTION: happyModel\n",
    "\n",
    "def happyModel():\n",
    "    \"\"\"\n",
    "    Implements the forward propagation for the binary classification model:\n",
    "    ZEROPAD2D -> CONV2D -> BATCHNORM -> RELU -> MAXPOOL -> FLATTEN -> DENSE\n",
    "    \n",
    "    Note that for simplicity and grading purposes, you'll hard-code all the values\n",
    "    such as the stride and kernel (filter) sizes. \n",
    "    Normally, functions should take these values as function parameters.\n",
    "    \n",
    "    Arguments:\n",
    "    None\n",
    "\n",
    "    Returns:\n",
    "    model -- TF Keras model (object containing the information for the entire training process) \n",
    "    \"\"\"\n",
    "    model = tf.keras.Sequential([\n",
    "            ## ZeroPadding2D with padding 3, input shape of 64 x 64 x 3\n",
    "            ## Conv2D with 32 7x7 filters and stride of 1\n",
    "            ## BatchNormalization for axis 3\n",
    "            ## ReLU\n",
    "            ## Max Pooling 2D with default parameters\n",
    "            ## Flatten layer\n",
    "            ## Dense layer with 1 unit for output & 'sigmoid' activation\n",
    "            # YOUR CODE STARTS HERE\n",
    "            tfl.Input(shape=(64, 64, 3)),\n",
    "            tfl.ZeroPadding2D(padding=(3, 3)),\n",
    "            tfl.Conv2D(filters=32, strides=(1,1), kernel_size=7),\n",
    "            tfl.BatchNormalization(axis=3),\n",
    "            tfl.ReLU(),\n",
    "            tfl.MaxPooling2D(),\n",
    "            tfl.Flatten(),\n",
    "            tfl.Dense(1, activation='sigmoid')                      \n",
    "            # YOUR CODE ENDS HERE\n",
    "        ])\n",
    "    \n",
    "    return model"
   ]
  },
  {
   "cell_type": "code",
   "execution_count": 6,
   "metadata": {
    "deletable": false,
    "editable": false,
    "nbgrader": {
     "cell_type": "code",
     "checksum": "8d3575c950e2e78149be2d05d671c80d",
     "grade": true,
     "grade_id": "cell-e3e1046e5c33d775",
     "locked": true,
     "points": 10,
     "schema_version": 3,
     "solution": false,
     "task": false
    }
   },
   "outputs": [
    {
     "name": "stdout",
     "output_type": "stream",
     "text": [
      "['ZeroPadding2D', (None, 70, 70, 3), 0, ((3, 3), (3, 3))]\n",
      "['Conv2D', (None, 64, 64, 32), 4736, 'valid', 'linear', 'GlorotUniform']\n",
      "['BatchNormalization', (None, 64, 64, 32), 128]\n",
      "['ReLU', (None, 64, 64, 32), 0]\n",
      "['MaxPooling2D', (None, 32, 32, 32), 0, (2, 2), (2, 2), 'valid']\n",
      "['Flatten', (None, 32768), 0]\n",
      "['Dense', (None, 1), 32769, 'sigmoid']\n",
      "\u001b[32mAll tests passed!\u001b[0m\n"
     ]
    }
   ],
   "source": [
    "happy_model = happyModel()\n",
    "# Print a summary for each layer\n",
    "for layer in summary(happy_model):\n",
    "    print(layer)\n",
    "    \n",
    "output = [['ZeroPadding2D', (None, 70, 70, 3), 0, ((3, 3), (3, 3))],\n",
    "            ['Conv2D', (None, 64, 64, 32), 4736, 'valid', 'linear', 'GlorotUniform'],\n",
    "            ['BatchNormalization', (None, 64, 64, 32), 128],\n",
    "            ['ReLU', (None, 64, 64, 32), 0],\n",
    "            ['MaxPooling2D', (None, 32, 32, 32), 0, (2, 2), (2, 2), 'valid'],\n",
    "            ['Flatten', (None, 32768), 0],\n",
    "            ['Dense', (None, 1), 32769, 'sigmoid']]\n",
    "    \n",
    "comparator(summary(happy_model), output)"
   ]
  },
  {
   "cell_type": "markdown",
   "metadata": {},
   "source": [
    "#### Expected Output:\n",
    "\n",
    "```\n",
    "['ZeroPadding2D', (None, 70, 70, 3), 0, ((3, 3), (3, 3))]\n",
    "['Conv2D', (None, 64, 64, 32), 4736, 'valid', 'linear', 'GlorotUniform']\n",
    "['BatchNormalization', (None, 64, 64, 32), 128]\n",
    "['ReLU', (None, 64, 64, 32), 0]\n",
    "['MaxPooling2D', (None, 32, 32, 32), 0, (2, 2), (2, 2), 'valid']\n",
    "['Flatten', (None, 32768), 0]\n",
    "['Dense', (None, 1), 32769, 'sigmoid']\n",
    "All tests passed!\n",
    "```"
   ]
  },
  {
   "cell_type": "markdown",
   "metadata": {},
   "source": [
    "Now that your model is created, you can compile it for training with an optimizer and loss of your choice. When the string `accuracy` is specified as a metric, the type of accuracy used will be automatically converted based on the loss function used. This is one of the many optimizations built into TensorFlow that make your life easier! If you'd like to read more on how the compiler operates, check the docs [here](https://www.tensorflow.org/api_docs/python/tf/keras/Model#compile)."
   ]
  },
  {
   "cell_type": "code",
   "execution_count": 7,
   "metadata": {},
   "outputs": [],
   "source": [
    "happy_model.compile(optimizer='adam',\n",
    "                   loss='binary_crossentropy',\n",
    "                   metrics=['accuracy'])"
   ]
  },
  {
   "cell_type": "markdown",
   "metadata": {},
   "source": [
    "It's time to check your model's parameters with the `.summary()` method. This will display the types of layers you have, the shape of the outputs, and how many parameters are in each layer. "
   ]
  },
  {
   "cell_type": "code",
   "execution_count": 8,
   "metadata": {},
   "outputs": [
    {
     "name": "stdout",
     "output_type": "stream",
     "text": [
      "Model: \"sequential\"\n",
      "_________________________________________________________________\n",
      "Layer (type)                 Output Shape              Param #   \n",
      "=================================================================\n",
      "zero_padding2d (ZeroPadding2 (None, 70, 70, 3)         0         \n",
      "_________________________________________________________________\n",
      "conv2d (Conv2D)              (None, 64, 64, 32)        4736      \n",
      "_________________________________________________________________\n",
      "batch_normalization (BatchNo (None, 64, 64, 32)        128       \n",
      "_________________________________________________________________\n",
      "re_lu (ReLU)                 (None, 64, 64, 32)        0         \n",
      "_________________________________________________________________\n",
      "max_pooling2d (MaxPooling2D) (None, 32, 32, 32)        0         \n",
      "_________________________________________________________________\n",
      "flatten (Flatten)            (None, 32768)             0         \n",
      "_________________________________________________________________\n",
      "dense (Dense)                (None, 1)                 32769     \n",
      "=================================================================\n",
      "Total params: 37,633\n",
      "Trainable params: 37,569\n",
      "Non-trainable params: 64\n",
      "_________________________________________________________________\n"
     ]
    }
   ],
   "source": [
    "happy_model.summary()"
   ]
  },
  {
   "cell_type": "markdown",
   "metadata": {},
   "source": [
    "<a name='3-2'></a>\n",
    "### 3.2 - Train and Evaluate the Model\n",
    "\n",
    "After creating the model, compiling it with your choice of optimizer and loss function, and doing a sanity check on its contents, you are now ready to build! \n",
    "\n",
    "Simply call `.fit()` to train. That's it! No need for mini-batching, saving, or complex backpropagation computations. That's all been done for you, as you're using a TensorFlow dataset with the batches specified already. You do have the option to specify epoch number or minibatch size if you like (for example, in the case of an un-batched dataset)."
   ]
  },
  {
   "cell_type": "code",
   "execution_count": 9,
   "metadata": {},
   "outputs": [
    {
     "name": "stdout",
     "output_type": "stream",
     "text": [
      "Epoch 1/10\n",
      "38/38 [==============================] - 4s 106ms/step - loss: 1.1538 - accuracy: 0.6850\n",
      "Epoch 2/10\n",
      "38/38 [==============================] - 4s 94ms/step - loss: 0.3702 - accuracy: 0.8750\n",
      "Epoch 3/10\n",
      "38/38 [==============================] - 4s 92ms/step - loss: 0.1401 - accuracy: 0.9467\n",
      "Epoch 4/10\n",
      "38/38 [==============================] - 4s 97ms/step - loss: 0.1078 - accuracy: 0.9633\n",
      "Epoch 5/10\n",
      "38/38 [==============================] - 4s 97ms/step - loss: 0.0836 - accuracy: 0.9683\n",
      "Epoch 6/10\n",
      "38/38 [==============================] - 4s 95ms/step - loss: 0.0755 - accuracy: 0.9767\n",
      "Epoch 7/10\n",
      "38/38 [==============================] - 4s 94ms/step - loss: 0.1146 - accuracy: 0.9567\n",
      "Epoch 8/10\n",
      "38/38 [==============================] - 4s 93ms/step - loss: 0.0895 - accuracy: 0.9650\n",
      "Epoch 9/10\n",
      "38/38 [==============================] - 4s 95ms/step - loss: 0.1344 - accuracy: 0.9533\n",
      "Epoch 10/10\n",
      "38/38 [==============================] - 4s 96ms/step - loss: 0.0710 - accuracy: 0.9717\n"
     ]
    },
    {
     "data": {
      "text/plain": [
       "<tensorflow.python.keras.callbacks.History at 0x7f27c7fc5090>"
      ]
     },
     "execution_count": 9,
     "metadata": {},
     "output_type": "execute_result"
    }
   ],
   "source": [
    "happy_model.fit(X_train, Y_train, epochs=10, batch_size=16)"
   ]
  },
  {
   "cell_type": "markdown",
   "metadata": {},
   "source": [
    "After that completes, just use `.evaluate()` to evaluate against your test set. This function will print the value of the loss function and the performance metrics specified during the compilation of the model. In this case, the `binary_crossentropy` and the `accuracy` respectively."
   ]
  },
  {
   "cell_type": "code",
   "execution_count": 10,
   "metadata": {},
   "outputs": [
    {
     "name": "stdout",
     "output_type": "stream",
     "text": [
      "5/5 [==============================] - 0s 33ms/step - loss: 0.3279 - accuracy: 0.8667\n"
     ]
    },
    {
     "data": {
      "text/plain": [
       "[0.3278502821922302, 0.8666666746139526]"
      ]
     },
     "execution_count": 10,
     "metadata": {},
     "output_type": "execute_result"
    }
   ],
   "source": [
    "happy_model.evaluate(X_test, Y_test)"
   ]
  },
  {
   "cell_type": "markdown",
   "metadata": {},
   "source": [
    "Easy, right? But what if you need to build a model with shared layers, branches, or multiple inputs and outputs? This is where Sequential, with its beautifully simple yet limited functionality, won't be able to help you. \n",
    "\n",
    "Next up: Enter the Functional API, your slightly more complex, highly flexible friend.  "
   ]
  },
  {
   "cell_type": "markdown",
   "metadata": {},
   "source": [
    "<a name='4'></a>\n",
    "## 4 - The Functional API"
   ]
  },
  {
   "cell_type": "markdown",
   "metadata": {},
   "source": [
    "Welcome to the second half of the assignment, where you'll use Keras' flexible [Functional API](https://www.tensorflow.org/guide/keras/functional) to build a ConvNet that can differentiate between 6 sign language digits. \n",
    "\n",
    "The Functional API can handle models with non-linear topology, shared layers, as well as layers with multiple inputs or outputs. Imagine that, where the Sequential API requires the model to move in a linear fashion through its layers, the Functional API allows much more flexibility. Where Sequential is a straight line, a Functional model is a graph, where the nodes of the layers can connect in many more ways than one. \n",
    "\n",
    "In the visual example below, the one possible direction of the movement Sequential model is shown in contrast to a skip connection, which is just one of the many ways a Functional model can be constructed. A skip connection, as you might have guessed, skips some layer in the network and feeds the output to a later layer in the network. Don't worry, you'll be spending more time with skip connections very soon! "
   ]
  },
  {
   "cell_type": "markdown",
   "metadata": {},
   "source": [
    "<img src=\"images/seq_vs_func.png\" style=\"width:350px;height:200px;\">"
   ]
  },
  {
   "cell_type": "markdown",
   "metadata": {},
   "source": [
    "<a name='4-1'></a>\n",
    "### 4.1 - Load the SIGNS Dataset\n",
    "\n",
    "As a reminder, the SIGNS dataset is a collection of 6 signs representing numbers from 0 to 5."
   ]
  },
  {
   "cell_type": "code",
   "execution_count": 11,
   "metadata": {},
   "outputs": [],
   "source": [
    "# Loading the data (signs)\n",
    "X_train_orig, Y_train_orig, X_test_orig, Y_test_orig, classes = load_signs_dataset()"
   ]
  },
  {
   "cell_type": "markdown",
   "metadata": {},
   "source": [
    "<img src=\"images/SIGNS.png\" style=\"width:800px;height:300px;\">\n",
    "\n",
    "The next cell will show you an example of a labelled image in the dataset. Feel free to change the value of `index` below and re-run to see different examples. "
   ]
  },
  {
   "cell_type": "code",
   "execution_count": 12,
   "metadata": {},
   "outputs": [
    {
     "name": "stdout",
     "output_type": "stream",
     "text": [
      "y = 4\n"
     ]
    },
    {
     "data": {
      "image/png": "[encoded data removed]",
      "text/plain": [
       "<Figure size 432x288 with 1 Axes>"
      ]
     },
     "metadata": {
      "needs_background": "light"
     },
     "output_type": "display_data"
    }
   ],
   "source": [
    "# Example of an image from the dataset\n",
    "index = 9\n",
    "plt.imshow(X_train_orig[index])\n",
    "print (\"y = \" + str(np.squeeze(Y_train_orig[:, index])))"
   ]
  },
  {
   "cell_type": "markdown",
   "metadata": {},
   "source": [
    "<a name='4-2'></a>\n",
    "### 4.2 - Split the Data into Train/Test Sets\n",
    "\n",
    "In Course 2, you built a fully-connected network for this dataset. But since this is an image dataset, it is more natural to apply a ConvNet to it.\n",
    "\n",
    "To get started, let's examine the shapes of your data. "
   ]
  },
  {
   "cell_type": "code",
   "execution_count": 13,
   "metadata": {},
   "outputs": [
    {
     "name": "stdout",
     "output_type": "stream",
     "text": [
      "number of training examples = 1080\n",
      "number of test examples = 120\n",
      "X_train shape: (1080, 64, 64, 3)\n",
      "Y_train shape: (1080, 6)\n",
      "X_test shape: (120, 64, 64, 3)\n",
      "Y_test shape: (120, 6)\n"
     ]
    }
   ],
   "source": [
    "X_train = X_train_orig/255.\n",
    "X_test = X_test_orig/255.\n",
    "Y_train = convert_to_one_hot(Y_train_orig, 6).T\n",
    "Y_test = convert_to_one_hot(Y_test_orig, 6).T\n",
    "print (\"number of training examples = \" + str(X_train.shape[0]))\n",
    "print (\"number of test examples = \" + str(X_test.shape[0]))\n",
    "print (\"X_train shape: \" + str(X_train.shape))\n",
    "print (\"Y_train shape: \" + str(Y_train.shape))\n",
    "print (\"X_test shape: \" + str(X_test.shape))\n",
    "print (\"Y_test shape: \" + str(Y_test.shape))"
   ]
  },
  {
   "cell_type": "markdown",
   "metadata": {},
   "source": [
    "<a name='4-3'></a>\n",
    "### 4.3 - Forward Propagation\n",
    "\n",
    "In TensorFlow, there are built-in functions that implement the convolution steps for you. By now, you should be familiar with how TensorFlow builds computational graphs. In the [Functional API](https://www.tensorflow.org/guide/keras/functional), you create a graph of layers. This is what allows such great flexibility.\n",
    "\n",
    "However, the following model could also be defined using the Sequential API since the information flow is on a single line. But don't deviate. What we want you to learn is to use the functional API.\n",
    "\n",
    "Begin building your graph of layers by creating an input node that functions as a callable object:\n",
    "\n",
    "- **input_img = tf.keras.Input(shape=input_shape):** \n",
    "\n",
    "Then, create a new node in the graph of layers by calling a layer on the `input_img` object: \n",
    "\n",
    "- **tf.keras.layers.Conv2D(filters= ... , kernel_size= ... , padding='same')(input_img):** Read the full documentation on [Conv2D](https://www.tensorflow.org/api_docs/python/tf/keras/layers/Conv2D).\n",
    "\n",
    "- **tf.keras.layers.MaxPool2D(pool_size=(f, f), strides=(s, s), padding='same'):** `MaxPool2D()` downsamples your input using a window of size (f, f) and strides of size (s, s) to carry out max pooling over each window.  For max pooling, you usually operate on a single example at a time and a single channel at a time. Read the full documentation on [MaxPool2D](https://www.tensorflow.org/api_docs/python/tf/keras/layers/MaxPool2D).\n",
    "\n",
    "- **tf.keras.layers.ReLU():** computes the elementwise ReLU of Z (which can be any shape). You can read the full documentation on [ReLU](https://www.tensorflow.org/api_docs/python/tf/keras/layers/ReLU).\n",
    "\n",
    "- **tf.keras.layers.Flatten()**: given a tensor \"P\", this function takes each training (or test) example in the batch and flattens it into a 1D vector.  \n",
    "\n",
    "    * If a tensor P has the shape (batch_size,h,w,c), it returns a flattened tensor with shape (batch_size, k), where $k=h \\times w \\times c$.  \"k\" equals the product of all the dimension sizes other than the first dimension.\n",
    "    \n",
    "    * For example, given a tensor with dimensions [100, 2, 3, 4], it flattens the tensor to be of shape [100, 24], where 24 = 2 * 3 * 4.  You can read the full documentation on [Flatten](https://www.tensorflow.org/api_docs/python/tf/keras/layers/Flatten).\n",
    "\n",
    "- **tf.keras.layers.Dense(units= ... , activation='softmax')(F):** given the flattened input F, it returns the output computed using a fully connected layer. You can read the full documentation on [Dense](https://www.tensorflow.org/api_docs/python/tf/keras/layers/Dense).\n",
    "\n",
    "In the last function above (`tf.keras.layers.Dense()`), the fully connected layer automatically initializes weights in the graph and keeps on training them as you train the model. Hence, you did not need to initialize those weights when initializing the parameters.\n",
    "\n",
    "Lastly, before creating the model, you'll need to define the output using the last of the function's compositions (in this example, a Dense layer): \n",
    "\n",
    "- **outputs = tf.keras.layers.Dense(units=6, activation='softmax')(F)**\n",
    "\n",
    "\n",
    "#### Window, kernel, filter, pool\n",
    "\n",
    "The words \"kernel\" and \"filter\" are used to refer to the same thing. The word \"filter\" accounts for the amount of \"kernels\" that will be used in a single convolution layer. \"Pool\" is the name of the operation that takes the max or average value of the kernels. \n",
    "\n",
    "This is why the parameter `pool_size` refers to `kernel_size`, and you use `(f,f)` to refer to the filter size. \n",
    "\n",
    "Pool size and kernel size refer to the same thing in different objects - They refer to the shape of the window where the operation takes place. "
   ]
  },
  {
   "cell_type": "markdown",
   "metadata": {},
   "source": [
    "<a name='ex-2'></a>\n",
    "### Exercise 2 - convolutional_model\n",
    "\n",
    "Implement the `convolutional_model` function below to build the following model: `CONV2D -> RELU -> MAXPOOL -> CONV2D -> RELU -> MAXPOOL -> FLATTEN -> DENSE`. Use the functions above! \n",
    "\n",
    "Also, plug in the following parameters for all the steps:\n",
    "\n",
    " - [Conv2D](https://www.tensorflow.org/api_docs/python/tf/keras/layers/Conv2D): Use 8 4 by 4 filters, stride 1, padding is \"SAME\"\n",
    " - [ReLU](https://www.tensorflow.org/api_docs/python/tf/keras/layers/ReLU)\n",
    " - [MaxPool2D](https://www.tensorflow.org/api_docs/python/tf/keras/layers/MaxPool2D): Use an 8 by 8 filter size and an 8 by 8 stride, padding is \"SAME\"\n",
    " - **Conv2D**: Use 16 2 by 2 filters, stride 1, padding is \"SAME\"\n",
    " - **ReLU**\n",
    " - **MaxPool2D**: Use a 4 by 4 filter size and a 4 by 4 stride, padding is \"SAME\"\n",
    " - [Flatten](https://www.tensorflow.org/api_docs/python/tf/keras/layers/Flatten) the previous output.\n",
    " - Fully-connected ([Dense](https://www.tensorflow.org/api_docs/python/tf/keras/layers/Dense)) layer: Apply a fully connected layer with 6 neurons and a softmax activation. "
   ]
  },
  {
   "cell_type": "code",
   "execution_count": 18,
   "metadata": {
    "deletable": false,
    "nbgrader": {
     "cell_type": "code",
     "checksum": "f58643806aa8380c96225fc8b4c5e7aa",
     "grade": false,
     "grade_id": "cell-dac51744a9e03f51",
     "locked": false,
     "schema_version": 3,
     "solution": true,
     "task": false
    }
   },
   "outputs": [],
   "source": [
    "# GRADED FUNCTION: convolutional_model\n",
    "\n",
    "def convolutional_model(input_shape):\n",
    "    \"\"\"\n",
    "    Implements the forward propagation for the model:\n",
    "    CONV2D -> RELU -> MAXPOOL -> CONV2D -> RELU -> MAXPOOL -> FLATTEN -> DENSE\n",
    "    \n",
    "    Note that for simplicity and grading purposes, you'll hard-code some values\n",
    "    such as the stride and kernel (filter) sizes. \n",
    "    Normally, functions should take these values as function parameters.\n",
    "    \n",
    "    Arguments:\n",
    "    input_img -- input dataset, of shape (input_shape)\n",
    "\n",
    "    Returns:\n",
    "    model -- TF Keras model (object containing the information for the entire training process) \n",
    "    \"\"\"\n",
    "\n",
    "    input_img = tf.keras.Input(shape=input_shape)\n",
    "    ## CONV2D: 8 filters 4x4, stride of 1, padding 'SAME'\n",
    "    # Z1 = None\n",
    "    ## RELU\n",
    "    # A1 = None\n",
    "    ## MAXPOOL: window 8x8, stride 8, padding 'SAME'\n",
    "    # P1 = None\n",
    "    ## CONV2D: 16 filters 2x2, stride 1, padding 'SAME'\n",
    "    # Z2 = None\n",
    "    ## RELU\n",
    "    # A2 = None\n",
    "    ## MAXPOOL: window 4x4, stride 4, padding 'SAME'\n",
    "    # P2 = None\n",
    "    ## FLATTEN\n",
    "    # F = None\n",
    "    ## Dense layer\n",
    "    ## 6 neurons in output layer. Hint: one of the arguments should be \"activation='softmax'\" \n",
    "    # outputs = None\n",
    "    # YOUR CODE STARTS HERE\n",
    "    Z1 = tfl.Conv2D(filters=8, kernel_size=4, padding='same')(input_img)\n",
    "    A1 = tfl.ReLU()(Z1)\n",
    "    P1 = tfl.MaxPool2D(pool_size=(8, 8), strides=(8,8), padding='same')(A1)\n",
    "    \n",
    "    Z2 = tfl.Conv2D(filters=16, kernel_size=2, padding='same')(P1)\n",
    "    A2 = tfl.ReLU()(Z2)\n",
    "    P2 = tfl.MaxPool2D(pool_size=(4, 4), strides=(4, 4), padding='same')(A2)\n",
    "    \n",
    "    F = tfl.Flatten()(P2)\n",
    "    outputs = tfl.Dense(6,activation='softmax')(F)\n",
    "    # YOUR CODE ENDS HERE\n",
    "    model = tf.keras.Model(inputs=input_img, outputs=outputs)\n",
    "    return model"
   ]
  },
  {
   "cell_type": "code",
   "execution_count": 19,
   "metadata": {
    "deletable": false,
    "editable": false,
    "nbgrader": {
     "cell_type": "code",
     "checksum": "483d626949930a0b0ef20997e7c6ba72",
     "grade": true,
     "grade_id": "cell-45d22e92042174c9",
     "locked": true,
     "points": 10,
     "schema_version": 3,
     "solution": false,
     "task": false
    }
   },
   "outputs": [
    {
     "name": "stdout",
     "output_type": "stream",
     "text": [
      "Model: \"functional_1\"\n",
      "_________________________________________________________________\n",
      "Layer (type)                 Output Shape              Param #   \n",
      "=================================================================\n",
      "input_4 (InputLayer)         [(None, 64, 64, 3)]       0         \n",
      "_________________________________________________________________\n",
      "conv2d_3 (Conv2D)            (None, 64, 64, 8)         392       \n",
      "_________________________________________________________________\n",
      "re_lu_3 (ReLU)               (None, 64, 64, 8)         0         \n",
      "_________________________________________________________________\n",
      "max_pooling2d_1 (MaxPooling2 (None, 8, 8, 8)           0         \n",
      "_________________________________________________________________\n",
      "conv2d_4 (Conv2D)            (None, 8, 8, 16)          528       \n",
      "_________________________________________________________________\n",
      "re_lu_4 (ReLU)               (None, 8, 8, 16)          0         \n",
      "_________________________________________________________________\n",
      "max_pooling2d_2 (MaxPooling2 (None, 2, 2, 16)          0         \n",
      "_________________________________________________________________\n",
      "flatten_1 (Flatten)          (None, 64)                0         \n",
      "_________________________________________________________________\n",
      "dense_1 (Dense)              (None, 6)                 390       \n",
      "=================================================================\n",
      "Total params: 1,310\n",
      "Trainable params: 1,310\n",
      "Non-trainable params: 0\n",
      "_________________________________________________________________\n",
      "\u001b[32mAll tests passed!\u001b[0m\n"
     ]
    }
   ],
   "source": [
    "conv_model = convolutional_model((64, 64, 3))\n",
    "conv_model.compile(optimizer='adam',\n",
    "                  loss='categorical_crossentropy',\n",
    "                  metrics=['accuracy'])\n",
    "conv_model.summary()\n",
    "    \n",
    "output = [['InputLayer', [(None, 64, 64, 3)], 0],\n",
    "        ['Conv2D', (None, 64, 64, 8), 392, 'same', 'linear', 'GlorotUniform'],\n",
    "        ['ReLU', (None, 64, 64, 8), 0],\n",
    "        ['MaxPooling2D', (None, 8, 8, 8), 0, (8, 8), (8, 8), 'same'],\n",
    "        ['Conv2D', (None, 8, 8, 16), 528, 'same', 'linear', 'GlorotUniform'],\n",
    "        ['ReLU', (None, 8, 8, 16), 0],\n",
    "        ['MaxPooling2D', (None, 2, 2, 16), 0, (4, 4), (4, 4), 'same'],\n",
    "        ['Flatten', (None, 64), 0],\n",
    "        ['Dense', (None, 6), 390, 'softmax']]\n",
    "    \n",
    "comparator(summary(conv_model), output)"
   ]
  },
  {
   "cell_type": "markdown",
   "metadata": {},
   "source": [
    "Both the Sequential and Functional APIs return a TF Keras model object. The only difference is how inputs are handled inside the object model! "
   ]
  },
  {
   "cell_type": "markdown",
   "metadata": {},
   "source": [
    "<a name='4-4'></a>\n",
    "### 4.4 - Train the Model"
   ]
  },
  {
   "cell_type": "code",
   "execution_count": 20,
   "metadata": {},
   "outputs": [
    {
     "name": "stdout",
     "output_type": "stream",
     "text": [
      "Epoch 1/100\n",
      "17/17 [==============================] - 2s 111ms/step - loss: 1.8180 - accuracy: 0.1537 - val_loss: 1.8039 - val_accuracy: 0.1583\n",
      "Epoch 2/100\n",
      "17/17 [==============================] - 2s 101ms/step - loss: 1.7953 - accuracy: 0.1324 - val_loss: 1.7953 - val_accuracy: 0.1417\n",
      "Epoch 3/100\n",
      "17/17 [==============================] - 2s 101ms/step - loss: 1.7902 - accuracy: 0.1796 - val_loss: 1.7899 - val_accuracy: 0.1917\n",
      "Epoch 4/100\n",
      "17/17 [==============================] - 2s 100ms/step - loss: 1.7856 - accuracy: 0.1880 - val_loss: 1.7866 - val_accuracy: 0.2000\n",
      "Epoch 5/100\n",
      "17/17 [==============================] - 2s 100ms/step - loss: 1.7814 - accuracy: 0.2222 - val_loss: 1.7834 - val_accuracy: 0.2083\n",
      "Epoch 6/100\n",
      "17/17 [==============================] - 2s 101ms/step - loss: 1.7783 - accuracy: 0.2269 - val_loss: 1.7808 - val_accuracy: 0.2333\n",
      "Epoch 7/100\n",
      "17/17 [==============================] - 2s 105ms/step - loss: 1.7739 - accuracy: 0.2667 - val_loss: 1.7779 - val_accuracy: 0.2667\n",
      "Epoch 8/100\n",
      "17/17 [==============================] - 2s 101ms/step - loss: 1.7696 - accuracy: 0.2917 - val_loss: 1.7741 - val_accuracy: 0.2750\n",
      "Epoch 9/100\n",
      "17/17 [==============================] - 2s 101ms/step - loss: 1.7644 - accuracy: 0.3278 - val_loss: 1.7691 - val_accuracy: 0.3083\n",
      "Epoch 10/100\n",
      "17/17 [==============================] - 2s 102ms/step - loss: 1.7581 - accuracy: 0.3454 - val_loss: 1.7639 - val_accuracy: 0.3667\n",
      "Epoch 11/100\n",
      "17/17 [==============================] - 2s 101ms/step - loss: 1.7510 - accuracy: 0.3833 - val_loss: 1.7578 - val_accuracy: 0.3750\n",
      "Epoch 12/100\n",
      "17/17 [==============================] - 2s 107ms/step - loss: 1.7428 - accuracy: 0.4037 - val_loss: 1.7509 - val_accuracy: 0.4083\n",
      "Epoch 13/100\n",
      "17/17 [==============================] - 2s 101ms/step - loss: 1.7320 - accuracy: 0.4296 - val_loss: 1.7421 - val_accuracy: 0.4167\n",
      "Epoch 14/100\n",
      "17/17 [==============================] - 2s 102ms/step - loss: 1.7203 - accuracy: 0.4426 - val_loss: 1.7307 - val_accuracy: 0.4333\n",
      "Epoch 15/100\n",
      "17/17 [==============================] - 2s 101ms/step - loss: 1.7026 - accuracy: 0.4741 - val_loss: 1.7154 - val_accuracy: 0.4500\n",
      "Epoch 16/100\n",
      "17/17 [==============================] - 2s 102ms/step - loss: 1.6842 - accuracy: 0.4639 - val_loss: 1.6982 - val_accuracy: 0.4500\n",
      "Epoch 17/100\n",
      "17/17 [==============================] - 2s 101ms/step - loss: 1.6625 - accuracy: 0.4694 - val_loss: 1.6789 - val_accuracy: 0.4583\n",
      "Epoch 18/100\n",
      "17/17 [==============================] - 2s 101ms/step - loss: 1.6378 - accuracy: 0.4870 - val_loss: 1.6566 - val_accuracy: 0.4583\n",
      "Epoch 19/100\n",
      "17/17 [==============================] - 2s 100ms/step - loss: 1.6070 - accuracy: 0.4991 - val_loss: 1.6252 - val_accuracy: 0.4833\n",
      "Epoch 20/100\n",
      "17/17 [==============================] - 2s 106ms/step - loss: 1.5650 - accuracy: 0.5130 - val_loss: 1.5875 - val_accuracy: 0.4750\n",
      "Epoch 21/100\n",
      "17/17 [==============================] - 2s 102ms/step - loss: 1.5189 - accuracy: 0.5176 - val_loss: 1.5479 - val_accuracy: 0.4583\n",
      "Epoch 22/100\n",
      "17/17 [==============================] - 2s 103ms/step - loss: 1.4677 - accuracy: 0.5130 - val_loss: 1.5066 - val_accuracy: 0.4500\n",
      "Epoch 23/100\n",
      "17/17 [==============================] - 2s 101ms/step - loss: 1.4125 - accuracy: 0.5296 - val_loss: 1.4523 - val_accuracy: 0.4667\n",
      "Epoch 24/100\n",
      "17/17 [==============================] - 2s 105ms/step - loss: 1.3635 - accuracy: 0.5519 - val_loss: 1.4067 - val_accuracy: 0.4750\n",
      "Epoch 25/100\n",
      "17/17 [==============================] - 2s 103ms/step - loss: 1.3095 - accuracy: 0.5620 - val_loss: 1.3560 - val_accuracy: 0.5167\n",
      "Epoch 26/100\n",
      "17/17 [==============================] - 2s 102ms/step - loss: 1.2619 - accuracy: 0.5796 - val_loss: 1.3130 - val_accuracy: 0.5250\n",
      "Epoch 27/100\n",
      "17/17 [==============================] - 2s 102ms/step - loss: 1.2193 - accuracy: 0.5963 - val_loss: 1.2793 - val_accuracy: 0.5333\n",
      "Epoch 28/100\n",
      "17/17 [==============================] - 2s 101ms/step - loss: 1.1790 - accuracy: 0.6056 - val_loss: 1.2407 - val_accuracy: 0.5417\n",
      "Epoch 29/100\n",
      "17/17 [==============================] - 2s 100ms/step - loss: 1.1420 - accuracy: 0.6204 - val_loss: 1.2101 - val_accuracy: 0.5417\n",
      "Epoch 30/100\n",
      "17/17 [==============================] - 2s 101ms/step - loss: 1.1081 - accuracy: 0.6278 - val_loss: 1.1749 - val_accuracy: 0.5500\n",
      "Epoch 31/100\n",
      "17/17 [==============================] - 2s 101ms/step - loss: 1.0795 - accuracy: 0.6398 - val_loss: 1.1521 - val_accuracy: 0.5500\n",
      "Epoch 32/100\n",
      "17/17 [==============================] - 2s 101ms/step - loss: 1.0510 - accuracy: 0.6444 - val_loss: 1.1276 - val_accuracy: 0.5750\n",
      "Epoch 33/100\n",
      "17/17 [==============================] - 2s 100ms/step - loss: 1.0241 - accuracy: 0.6611 - val_loss: 1.1021 - val_accuracy: 0.5917\n",
      "Epoch 34/100\n",
      "17/17 [==============================] - 2s 107ms/step - loss: 0.9998 - accuracy: 0.6704 - val_loss: 1.0830 - val_accuracy: 0.5917\n",
      "Epoch 35/100\n",
      "17/17 [==============================] - 2s 99ms/step - loss: 0.9762 - accuracy: 0.6750 - val_loss: 1.0601 - val_accuracy: 0.6167\n",
      "Epoch 36/100\n",
      "17/17 [==============================] - 2s 100ms/step - loss: 0.9529 - accuracy: 0.6880 - val_loss: 1.0449 - val_accuracy: 0.6250\n",
      "Epoch 37/100\n",
      "17/17 [==============================] - 2s 106ms/step - loss: 0.9321 - accuracy: 0.6954 - val_loss: 1.0272 - val_accuracy: 0.6417\n",
      "Epoch 38/100\n",
      "17/17 [==============================] - 2s 101ms/step - loss: 0.9118 - accuracy: 0.7093 - val_loss: 1.0122 - val_accuracy: 0.6583\n",
      "Epoch 39/100\n",
      "17/17 [==============================] - 2s 103ms/step - loss: 0.8932 - accuracy: 0.7157 - val_loss: 0.9988 - val_accuracy: 0.6583\n",
      "Epoch 40/100\n",
      "17/17 [==============================] - 2s 106ms/step - loss: 0.8757 - accuracy: 0.7222 - val_loss: 0.9858 - val_accuracy: 0.6583\n",
      "Epoch 41/100\n",
      "17/17 [==============================] - 2s 101ms/step - loss: 0.8587 - accuracy: 0.7296 - val_loss: 0.9739 - val_accuracy: 0.6583\n",
      "Epoch 42/100\n",
      "17/17 [==============================] - 2s 100ms/step - loss: 0.8431 - accuracy: 0.7361 - val_loss: 0.9623 - val_accuracy: 0.6583\n",
      "Epoch 43/100\n",
      "17/17 [==============================] - 2s 103ms/step - loss: 0.8283 - accuracy: 0.7426 - val_loss: 0.9516 - val_accuracy: 0.6750\n",
      "Epoch 44/100\n",
      "17/17 [==============================] - 2s 102ms/step - loss: 0.8144 - accuracy: 0.7435 - val_loss: 0.9417 - val_accuracy: 0.6833\n",
      "Epoch 45/100\n",
      "17/17 [==============================] - 2s 107ms/step - loss: 0.8010 - accuracy: 0.7491 - val_loss: 0.9321 - val_accuracy: 0.6750\n",
      "Epoch 46/100\n",
      "17/17 [==============================] - 2s 104ms/step - loss: 0.7880 - accuracy: 0.7556 - val_loss: 0.9239 - val_accuracy: 0.6917\n",
      "Epoch 47/100\n",
      "17/17 [==============================] - 2s 103ms/step - loss: 0.7761 - accuracy: 0.7620 - val_loss: 0.9154 - val_accuracy: 0.7000\n",
      "Epoch 48/100\n",
      "17/17 [==============================] - 2s 106ms/step - loss: 0.7639 - accuracy: 0.7639 - val_loss: 0.9080 - val_accuracy: 0.6833\n",
      "Epoch 49/100\n",
      "17/17 [==============================] - 2s 100ms/step - loss: 0.7526 - accuracy: 0.7676 - val_loss: 0.9005 - val_accuracy: 0.6917\n",
      "Epoch 50/100\n",
      "17/17 [==============================] - 2s 106ms/step - loss: 0.7416 - accuracy: 0.7731 - val_loss: 0.8932 - val_accuracy: 0.6917\n",
      "Epoch 51/100\n",
      "17/17 [==============================] - 2s 106ms/step - loss: 0.7312 - accuracy: 0.7750 - val_loss: 0.8864 - val_accuracy: 0.6917\n",
      "Epoch 52/100\n",
      "17/17 [==============================] - 2s 101ms/step - loss: 0.7211 - accuracy: 0.7778 - val_loss: 0.8798 - val_accuracy: 0.6917\n",
      "Epoch 53/100\n",
      "17/17 [==============================] - 2s 101ms/step - loss: 0.7114 - accuracy: 0.7861 - val_loss: 0.8736 - val_accuracy: 0.6917\n",
      "Epoch 54/100\n",
      "17/17 [==============================] - 2s 102ms/step - loss: 0.7024 - accuracy: 0.7880 - val_loss: 0.8671 - val_accuracy: 0.6917\n",
      "Epoch 55/100\n",
      "17/17 [==============================] - 2s 106ms/step - loss: 0.6933 - accuracy: 0.7880 - val_loss: 0.8610 - val_accuracy: 0.6917\n",
      "Epoch 56/100\n",
      "17/17 [==============================] - 2s 101ms/step - loss: 0.6850 - accuracy: 0.7880 - val_loss: 0.8549 - val_accuracy: 0.6917\n",
      "Epoch 57/100\n",
      "17/17 [==============================] - 2s 101ms/step - loss: 0.6765 - accuracy: 0.7935 - val_loss: 0.8489 - val_accuracy: 0.6917\n"
     ]
    },
    {
     "name": "stdout",
     "output_type": "stream",
     "text": [
      "Epoch 58/100\n",
      "17/17 [==============================] - 2s 106ms/step - loss: 0.6686 - accuracy: 0.7972 - val_loss: 0.8435 - val_accuracy: 0.6917\n",
      "Epoch 59/100\n",
      "17/17 [==============================] - 2s 105ms/step - loss: 0.6607 - accuracy: 0.8000 - val_loss: 0.8383 - val_accuracy: 0.7000\n",
      "Epoch 60/100\n",
      "17/17 [==============================] - 2s 107ms/step - loss: 0.6530 - accuracy: 0.8028 - val_loss: 0.8331 - val_accuracy: 0.7000\n",
      "Epoch 61/100\n",
      "17/17 [==============================] - 2s 101ms/step - loss: 0.6456 - accuracy: 0.8074 - val_loss: 0.8283 - val_accuracy: 0.7083\n",
      "Epoch 62/100\n",
      "17/17 [==============================] - 2s 103ms/step - loss: 0.6385 - accuracy: 0.8111 - val_loss: 0.8235 - val_accuracy: 0.7167\n",
      "Epoch 63/100\n",
      "17/17 [==============================] - 2s 100ms/step - loss: 0.6314 - accuracy: 0.8111 - val_loss: 0.8187 - val_accuracy: 0.7167\n",
      "Epoch 64/100\n",
      "17/17 [==============================] - 2s 101ms/step - loss: 0.6245 - accuracy: 0.8120 - val_loss: 0.8144 - val_accuracy: 0.7167\n",
      "Epoch 65/100\n",
      "17/17 [==============================] - 2s 106ms/step - loss: 0.6178 - accuracy: 0.8139 - val_loss: 0.8103 - val_accuracy: 0.7167\n",
      "Epoch 66/100\n",
      "17/17 [==============================] - 2s 101ms/step - loss: 0.6114 - accuracy: 0.8130 - val_loss: 0.8058 - val_accuracy: 0.7167\n",
      "Epoch 67/100\n",
      "17/17 [==============================] - 2s 103ms/step - loss: 0.6052 - accuracy: 0.8148 - val_loss: 0.8015 - val_accuracy: 0.7167\n",
      "Epoch 68/100\n",
      "17/17 [==============================] - 2s 101ms/step - loss: 0.5990 - accuracy: 0.8176 - val_loss: 0.7968 - val_accuracy: 0.7167\n",
      "Epoch 69/100\n",
      "17/17 [==============================] - 2s 102ms/step - loss: 0.5930 - accuracy: 0.8231 - val_loss: 0.7926 - val_accuracy: 0.7167\n",
      "Epoch 70/100\n",
      "17/17 [==============================] - 2s 99ms/step - loss: 0.5874 - accuracy: 0.8231 - val_loss: 0.7879 - val_accuracy: 0.7167\n",
      "Epoch 71/100\n",
      "17/17 [==============================] - 2s 100ms/step - loss: 0.5818 - accuracy: 0.8231 - val_loss: 0.7845 - val_accuracy: 0.7250\n",
      "Epoch 72/100\n",
      "17/17 [==============================] - 2s 100ms/step - loss: 0.5766 - accuracy: 0.8231 - val_loss: 0.7800 - val_accuracy: 0.7250\n",
      "Epoch 73/100\n",
      "17/17 [==============================] - 2s 102ms/step - loss: 0.5712 - accuracy: 0.8231 - val_loss: 0.7765 - val_accuracy: 0.7250\n",
      "Epoch 74/100\n",
      "17/17 [==============================] - 2s 100ms/step - loss: 0.5659 - accuracy: 0.8278 - val_loss: 0.7727 - val_accuracy: 0.7333\n",
      "Epoch 75/100\n",
      "17/17 [==============================] - 2s 101ms/step - loss: 0.5606 - accuracy: 0.8269 - val_loss: 0.7685 - val_accuracy: 0.7333\n",
      "Epoch 76/100\n",
      "17/17 [==============================] - 2s 101ms/step - loss: 0.5559 - accuracy: 0.8287 - val_loss: 0.7654 - val_accuracy: 0.7333\n",
      "Epoch 77/100\n",
      "17/17 [==============================] - 2s 100ms/step - loss: 0.5513 - accuracy: 0.8287 - val_loss: 0.7613 - val_accuracy: 0.7333\n",
      "Epoch 78/100\n",
      "17/17 [==============================] - 2s 108ms/step - loss: 0.5465 - accuracy: 0.8287 - val_loss: 0.7586 - val_accuracy: 0.7333\n",
      "Epoch 79/100\n",
      "17/17 [==============================] - 2s 102ms/step - loss: 0.5416 - accuracy: 0.8306 - val_loss: 0.7549 - val_accuracy: 0.7333\n",
      "Epoch 80/100\n",
      "17/17 [==============================] - 2s 106ms/step - loss: 0.5375 - accuracy: 0.8269 - val_loss: 0.7517 - val_accuracy: 0.7333\n",
      "Epoch 81/100\n",
      "17/17 [==============================] - 2s 106ms/step - loss: 0.5328 - accuracy: 0.8324 - val_loss: 0.7493 - val_accuracy: 0.7333\n",
      "Epoch 82/100\n",
      "17/17 [==============================] - 2s 107ms/step - loss: 0.5283 - accuracy: 0.8324 - val_loss: 0.7451 - val_accuracy: 0.7333\n",
      "Epoch 83/100\n",
      "17/17 [==============================] - 2s 100ms/step - loss: 0.5241 - accuracy: 0.8352 - val_loss: 0.7426 - val_accuracy: 0.7333\n",
      "Epoch 84/100\n",
      "17/17 [==============================] - 2s 100ms/step - loss: 0.5196 - accuracy: 0.8361 - val_loss: 0.7393 - val_accuracy: 0.7250\n",
      "Epoch 85/100\n",
      "17/17 [==============================] - 2s 99ms/step - loss: 0.5158 - accuracy: 0.8370 - val_loss: 0.7369 - val_accuracy: 0.7250\n",
      "Epoch 86/100\n",
      "17/17 [==============================] - 2s 101ms/step - loss: 0.5118 - accuracy: 0.8370 - val_loss: 0.7343 - val_accuracy: 0.7333\n",
      "Epoch 87/100\n",
      "17/17 [==============================] - 2s 102ms/step - loss: 0.5075 - accuracy: 0.8398 - val_loss: 0.7308 - val_accuracy: 0.7500\n",
      "Epoch 88/100\n",
      "17/17 [==============================] - 2s 100ms/step - loss: 0.5036 - accuracy: 0.8398 - val_loss: 0.7283 - val_accuracy: 0.7417\n",
      "Epoch 89/100\n",
      "17/17 [==============================] - 2s 101ms/step - loss: 0.4995 - accuracy: 0.8389 - val_loss: 0.7253 - val_accuracy: 0.7500\n",
      "Epoch 90/100\n",
      "17/17 [==============================] - 2s 102ms/step - loss: 0.4956 - accuracy: 0.8444 - val_loss: 0.7236 - val_accuracy: 0.7583\n",
      "Epoch 91/100\n",
      "17/17 [==============================] - 2s 100ms/step - loss: 0.4921 - accuracy: 0.8481 - val_loss: 0.7207 - val_accuracy: 0.7583\n",
      "Epoch 92/100\n",
      "17/17 [==============================] - 2s 102ms/step - loss: 0.4887 - accuracy: 0.8491 - val_loss: 0.7192 - val_accuracy: 0.7583\n",
      "Epoch 93/100\n",
      "17/17 [==============================] - 2s 101ms/step - loss: 0.4852 - accuracy: 0.8500 - val_loss: 0.7162 - val_accuracy: 0.7583\n",
      "Epoch 94/100\n",
      "17/17 [==============================] - 2s 106ms/step - loss: 0.4818 - accuracy: 0.8509 - val_loss: 0.7147 - val_accuracy: 0.7583\n",
      "Epoch 95/100\n",
      "17/17 [==============================] - 2s 102ms/step - loss: 0.4784 - accuracy: 0.8509 - val_loss: 0.7117 - val_accuracy: 0.7583\n",
      "Epoch 96/100\n",
      "17/17 [==============================] - 2s 106ms/step - loss: 0.4751 - accuracy: 0.8519 - val_loss: 0.7104 - val_accuracy: 0.7583\n",
      "Epoch 97/100\n",
      "17/17 [==============================] - 2s 101ms/step - loss: 0.4717 - accuracy: 0.8528 - val_loss: 0.7089 - val_accuracy: 0.7583\n",
      "Epoch 98/100\n",
      "17/17 [==============================] - 2s 102ms/step - loss: 0.4678 - accuracy: 0.8556 - val_loss: 0.7061 - val_accuracy: 0.7583\n",
      "Epoch 99/100\n",
      "17/17 [==============================] - 2s 101ms/step - loss: 0.4645 - accuracy: 0.8556 - val_loss: 0.7043 - val_accuracy: 0.7583\n",
      "Epoch 100/100\n",
      "17/17 [==============================] - 2s 102ms/step - loss: 0.4611 - accuracy: 0.8565 - val_loss: 0.7028 - val_accuracy: 0.7583\n"
     ]
    }
   ],
   "source": [
    "train_dataset = tf.data.Dataset.from_tensor_slices((X_train, Y_train)).batch(64)\n",
    "test_dataset = tf.data.Dataset.from_tensor_slices((X_test, Y_test)).batch(64)\n",
    "history = conv_model.fit(train_dataset, epochs=100, validation_data=test_dataset)"
   ]
  },
  {
   "cell_type": "markdown",
   "metadata": {},
   "source": [
    "<a name='5'></a>\n",
    "## 5 - History Object \n",
    "\n",
    "The history object is an output of the `.fit()` operation, and provides a record of all the loss and metric values in memory. It's stored as a dictionary that you can retrieve at `history.history`: "
   ]
  },
  {
   "cell_type": "code",
   "execution_count": 21,
   "metadata": {},
   "outputs": [
    {
     "data": {
      "text/plain": [
       "{'loss': [1.8180460929870605,\n",
       "  1.7952885627746582,\n",
       "  1.7901884317398071,\n",
       "  1.7855782508850098,\n",
       "  1.7813632488250732,\n",
       "  1.7783399820327759,\n",
       "  1.7739492654800415,\n",
       "  1.769583821296692,\n",
       "  1.764405369758606,\n",
       "  1.7580878734588623,\n",
       "  1.7510095834732056,\n",
       "  1.7427825927734375,\n",
       "  1.7320481538772583,\n",
       "  1.720339059829712,\n",
       "  1.7026206254959106,\n",
       "  1.6841965913772583,\n",
       "  1.662477731704712,\n",
       "  1.6377917528152466,\n",
       "  1.6070176362991333,\n",
       "  1.5650367736816406,\n",
       "  1.518885612487793,\n",
       "  1.467725396156311,\n",
       "  1.4124590158462524,\n",
       "  1.3634850978851318,\n",
       "  1.309498906135559,\n",
       "  1.261877417564392,\n",
       "  1.2193166017532349,\n",
       "  1.1790175437927246,\n",
       "  1.1419849395751953,\n",
       "  1.108054280281067,\n",
       "  1.0795190334320068,\n",
       "  1.0509824752807617,\n",
       "  1.0240838527679443,\n",
       "  0.9997765421867371,\n",
       "  0.9761908650398254,\n",
       "  0.9529290199279785,\n",
       "  0.9321475625038147,\n",
       "  0.9117777347564697,\n",
       "  0.8931980729103088,\n",
       "  0.8756800889968872,\n",
       "  0.8587455749511719,\n",
       "  0.8431280255317688,\n",
       "  0.8282824158668518,\n",
       "  0.8143805861473083,\n",
       "  0.8010391592979431,\n",
       "  0.7879552841186523,\n",
       "  0.7760595083236694,\n",
       "  0.7639175653457642,\n",
       "  0.7525664567947388,\n",
       "  0.7416161894798279,\n",
       "  0.7312044501304626,\n",
       "  0.7211049199104309,\n",
       "  0.7113826274871826,\n",
       "  0.7023975253105164,\n",
       "  0.6933460235595703,\n",
       "  0.6849721074104309,\n",
       "  0.676497757434845,\n",
       "  0.6685988306999207,\n",
       "  0.6606981158256531,\n",
       "  0.6530407667160034,\n",
       "  0.6455904245376587,\n",
       "  0.6384503245353699,\n",
       "  0.6313863396644592,\n",
       "  0.6245183944702148,\n",
       "  0.6178110837936401,\n",
       "  0.6113566756248474,\n",
       "  0.6051756143569946,\n",
       "  0.5989834070205688,\n",
       "  0.593023419380188,\n",
       "  0.5873931050300598,\n",
       "  0.5818093419075012,\n",
       "  0.5766046047210693,\n",
       "  0.5712401270866394,\n",
       "  0.5658973455429077,\n",
       "  0.560645580291748,\n",
       "  0.5558901429176331,\n",
       "  0.5512561202049255,\n",
       "  0.5464736223220825,\n",
       "  0.5416181683540344,\n",
       "  0.5375140905380249,\n",
       "  0.5327854752540588,\n",
       "  0.5282875299453735,\n",
       "  0.5241095423698425,\n",
       "  0.5196047425270081,\n",
       "  0.5158170461654663,\n",
       "  0.5117617249488831,\n",
       "  0.5074899792671204,\n",
       "  0.5035830140113831,\n",
       "  0.4995362460613251,\n",
       "  0.495621919631958,\n",
       "  0.49211385846138,\n",
       "  0.4886733889579773,\n",
       "  0.4851686358451843,\n",
       "  0.4818275272846222,\n",
       "  0.47836926579475403,\n",
       "  0.47509765625,\n",
       "  0.47168847918510437,\n",
       "  0.4677911102771759,\n",
       "  0.46453702449798584,\n",
       "  0.46114781498908997],\n",
       " 'accuracy': [0.1537037044763565,\n",
       "  0.13240741193294525,\n",
       "  0.1796296238899231,\n",
       "  0.18796296417713165,\n",
       "  0.2222222238779068,\n",
       "  0.22685185074806213,\n",
       "  0.2666666805744171,\n",
       "  0.2916666567325592,\n",
       "  0.32777777314186096,\n",
       "  0.3453703820705414,\n",
       "  0.38333332538604736,\n",
       "  0.4037036895751953,\n",
       "  0.4296296238899231,\n",
       "  0.442592591047287,\n",
       "  0.4740740656852722,\n",
       "  0.46388888359069824,\n",
       "  0.4694444537162781,\n",
       "  0.4870370328426361,\n",
       "  0.4990740716457367,\n",
       "  0.5129629373550415,\n",
       "  0.5175926089286804,\n",
       "  0.5129629373550415,\n",
       "  0.529629647731781,\n",
       "  0.5518518686294556,\n",
       "  0.5620370507240295,\n",
       "  0.5796296000480652,\n",
       "  0.5962963104248047,\n",
       "  0.605555534362793,\n",
       "  0.6203703880310059,\n",
       "  0.6277777552604675,\n",
       "  0.6398147940635681,\n",
       "  0.644444465637207,\n",
       "  0.6611111164093018,\n",
       "  0.6703703999519348,\n",
       "  0.675000011920929,\n",
       "  0.6879629492759705,\n",
       "  0.6953703761100769,\n",
       "  0.7092592716217041,\n",
       "  0.7157407402992249,\n",
       "  0.7222222089767456,\n",
       "  0.729629635810852,\n",
       "  0.7361111044883728,\n",
       "  0.7425925731658936,\n",
       "  0.7435185313224792,\n",
       "  0.7490741014480591,\n",
       "  0.7555555701255798,\n",
       "  0.7620370388031006,\n",
       "  0.7638888955116272,\n",
       "  0.7675926089286804,\n",
       "  0.7731481194496155,\n",
       "  0.7749999761581421,\n",
       "  0.7777777910232544,\n",
       "  0.7861111164093018,\n",
       "  0.7879629731178284,\n",
       "  0.7879629731178284,\n",
       "  0.7879629731178284,\n",
       "  0.7935185432434082,\n",
       "  0.7972221970558167,\n",
       "  0.800000011920929,\n",
       "  0.8027777671813965,\n",
       "  0.8074073791503906,\n",
       "  0.8111110925674438,\n",
       "  0.8111110925674438,\n",
       "  0.8120370507240295,\n",
       "  0.8138889074325562,\n",
       "  0.8129629492759705,\n",
       "  0.8148148059844971,\n",
       "  0.8175926208496094,\n",
       "  0.8231481313705444,\n",
       "  0.8231481313705444,\n",
       "  0.8231481313705444,\n",
       "  0.8231481313705444,\n",
       "  0.8231481313705444,\n",
       "  0.8277778029441833,\n",
       "  0.8268518447875977,\n",
       "  0.8287037014961243,\n",
       "  0.8287037014961243,\n",
       "  0.8287037014961243,\n",
       "  0.8305555582046509,\n",
       "  0.8268518447875977,\n",
       "  0.8324074149131775,\n",
       "  0.8324074149131775,\n",
       "  0.835185170173645,\n",
       "  0.8361111283302307,\n",
       "  0.8370370268821716,\n",
       "  0.8370370268821716,\n",
       "  0.8398148417472839,\n",
       "  0.8398148417472839,\n",
       "  0.8388888835906982,\n",
       "  0.8444444537162781,\n",
       "  0.8481481671333313,\n",
       "  0.8490740656852722,\n",
       "  0.8500000238418579,\n",
       "  0.8509259223937988,\n",
       "  0.8509259223937988,\n",
       "  0.8518518805503845,\n",
       "  0.8527777791023254,\n",
       "  0.855555534362793,\n",
       "  0.855555534362793,\n",
       "  0.8564814925193787],\n",
       " 'val_loss': [1.8038891553878784,\n",
       "  1.795286774635315,\n",
       "  1.789874792098999,\n",
       "  1.7865649461746216,\n",
       "  1.7834360599517822,\n",
       "  1.7808479070663452,\n",
       "  1.777872085571289,\n",
       "  1.774138331413269,\n",
       "  1.7691490650177002,\n",
       "  1.7639328241348267,\n",
       "  1.7577885389328003,\n",
       "  1.7508639097213745,\n",
       "  1.742114543914795,\n",
       "  1.730730652809143,\n",
       "  1.7154228687286377,\n",
       "  1.6982371807098389,\n",
       "  1.6789352893829346,\n",
       "  1.6565910577774048,\n",
       "  1.6252270936965942,\n",
       "  1.587528944015503,\n",
       "  1.5479258298873901,\n",
       "  1.5065947771072388,\n",
       "  1.4522989988327026,\n",
       "  1.4066587686538696,\n",
       "  1.3559508323669434,\n",
       "  1.3129544258117676,\n",
       "  1.2793387174606323,\n",
       "  1.240687608718872,\n",
       "  1.2100720405578613,\n",
       "  1.1749368906021118,\n",
       "  1.152148962020874,\n",
       "  1.1275678873062134,\n",
       "  1.1021461486816406,\n",
       "  1.0829676389694214,\n",
       "  1.0601038932800293,\n",
       "  1.0449048280715942,\n",
       "  1.0272293090820312,\n",
       "  1.0122405290603638,\n",
       "  0.9988433718681335,\n",
       "  0.9857733249664307,\n",
       "  0.9739004969596863,\n",
       "  0.9623070955276489,\n",
       "  0.951630711555481,\n",
       "  0.9416833519935608,\n",
       "  0.9320724606513977,\n",
       "  0.9238845109939575,\n",
       "  0.9154096841812134,\n",
       "  0.9080389738082886,\n",
       "  0.9004668593406677,\n",
       "  0.893166720867157,\n",
       "  0.8863646388053894,\n",
       "  0.8798021674156189,\n",
       "  0.8736043572425842,\n",
       "  0.867100715637207,\n",
       "  0.8609628677368164,\n",
       "  0.8549082279205322,\n",
       "  0.8488844633102417,\n",
       "  0.8435011506080627,\n",
       "  0.8382843136787415,\n",
       "  0.8330973982810974,\n",
       "  0.8283212780952454,\n",
       "  0.8234565854072571,\n",
       "  0.8186972141265869,\n",
       "  0.8144384622573853,\n",
       "  0.8102715611457825,\n",
       "  0.8058248162269592,\n",
       "  0.8014821410179138,\n",
       "  0.7968326807022095,\n",
       "  0.7925513386726379,\n",
       "  0.7879207730293274,\n",
       "  0.7844609618186951,\n",
       "  0.7799549102783203,\n",
       "  0.7765322923660278,\n",
       "  0.7727473974227905,\n",
       "  0.7684984803199768,\n",
       "  0.7653827667236328,\n",
       "  0.7613221406936646,\n",
       "  0.7586374878883362,\n",
       "  0.7548847794532776,\n",
       "  0.7517167925834656,\n",
       "  0.749281644821167,\n",
       "  0.7451379299163818,\n",
       "  0.7425978779792786,\n",
       "  0.7393168210983276,\n",
       "  0.7368638515472412,\n",
       "  0.7342962026596069,\n",
       "  0.7308218479156494,\n",
       "  0.728309690952301,\n",
       "  0.7253080010414124,\n",
       "  0.7235714793205261,\n",
       "  0.7206504940986633,\n",
       "  0.7192186713218689,\n",
       "  0.7162293791770935,\n",
       "  0.7147166132926941,\n",
       "  0.7116835117340088,\n",
       "  0.7103847861289978,\n",
       "  0.7088897824287415,\n",
       "  0.706105649471283,\n",
       "  0.7043381929397583,\n",
       "  0.7028380036354065],\n",
       " 'val_accuracy': [0.15833333134651184,\n",
       "  0.14166666567325592,\n",
       "  0.19166666269302368,\n",
       "  0.20000000298023224,\n",
       "  0.2083333283662796,\n",
       "  0.23333333432674408,\n",
       "  0.2666666805744171,\n",
       "  0.2750000059604645,\n",
       "  0.3083333373069763,\n",
       "  0.36666667461395264,\n",
       "  0.375,\n",
       "  0.40833333134651184,\n",
       "  0.4166666567325592,\n",
       "  0.4333333373069763,\n",
       "  0.44999998807907104,\n",
       "  0.44999998807907104,\n",
       "  0.4583333432674408,\n",
       "  0.4583333432674408,\n",
       "  0.4833333194255829,\n",
       "  0.4749999940395355,\n",
       "  0.4583333432674408,\n",
       "  0.44999998807907104,\n",
       "  0.46666666865348816,\n",
       "  0.4749999940395355,\n",
       "  0.5166666507720947,\n",
       "  0.5249999761581421,\n",
       "  0.5333333611488342,\n",
       "  0.5416666865348816,\n",
       "  0.5416666865348816,\n",
       "  0.550000011920929,\n",
       "  0.550000011920929,\n",
       "  0.574999988079071,\n",
       "  0.5916666388511658,\n",
       "  0.5916666388511658,\n",
       "  0.6166666746139526,\n",
       "  0.625,\n",
       "  0.6416666507720947,\n",
       "  0.6583333611488342,\n",
       "  0.6583333611488342,\n",
       "  0.6583333611488342,\n",
       "  0.6583333611488342,\n",
       "  0.6583333611488342,\n",
       "  0.675000011920929,\n",
       "  0.6833333373069763,\n",
       "  0.675000011920929,\n",
       "  0.6916666626930237,\n",
       "  0.699999988079071,\n",
       "  0.6833333373069763,\n",
       "  0.6916666626930237,\n",
       "  0.6916666626930237,\n",
       "  0.6916666626930237,\n",
       "  0.6916666626930237,\n",
       "  0.6916666626930237,\n",
       "  0.6916666626930237,\n",
       "  0.6916666626930237,\n",
       "  0.6916666626930237,\n",
       "  0.6916666626930237,\n",
       "  0.6916666626930237,\n",
       "  0.699999988079071,\n",
       "  0.699999988079071,\n",
       "  0.7083333134651184,\n",
       "  0.7166666388511658,\n",
       "  0.7166666388511658,\n",
       "  0.7166666388511658,\n",
       "  0.7166666388511658,\n",
       "  0.7166666388511658,\n",
       "  0.7166666388511658,\n",
       "  0.7166666388511658,\n",
       "  0.7166666388511658,\n",
       "  0.7166666388511658,\n",
       "  0.7250000238418579,\n",
       "  0.7250000238418579,\n",
       "  0.7250000238418579,\n",
       "  0.7333333492279053,\n",
       "  0.7333333492279053,\n",
       "  0.7333333492279053,\n",
       "  0.7333333492279053,\n",
       "  0.7333333492279053,\n",
       "  0.7333333492279053,\n",
       "  0.7333333492279053,\n",
       "  0.7333333492279053,\n",
       "  0.7333333492279053,\n",
       "  0.7333333492279053,\n",
       "  0.7250000238418579,\n",
       "  0.7250000238418579,\n",
       "  0.7333333492279053,\n",
       "  0.75,\n",
       "  0.7416666746139526,\n",
       "  0.75,\n",
       "  0.7583333253860474,\n",
       "  0.7583333253860474,\n",
       "  0.7583333253860474,\n",
       "  0.7583333253860474,\n",
       "  0.7583333253860474,\n",
       "  0.7583333253860474,\n",
       "  0.7583333253860474,\n",
       "  0.7583333253860474,\n",
       "  0.7583333253860474,\n",
       "  0.7583333253860474,\n",
       "  0.7583333253860474]}"
      ]
     },
     "execution_count": 21,
     "metadata": {},
     "output_type": "execute_result"
    }
   ],
   "source": [
    "history.history"
   ]
  },
  {
   "cell_type": "markdown",
   "metadata": {},
   "source": [
    "Now visualize the loss over time using `history.history`: "
   ]
  },
  {
   "cell_type": "code",
   "execution_count": 22,
   "metadata": {},
   "outputs": [
    {
     "data": {
      "text/plain": [
       "[Text(0, 0.5, 'Accuracy'), Text(0.5, 0, 'Epoch')]"
      ]
     },
     "execution_count": 22,
     "metadata": {},
     "output_type": "execute_result"
    },
    {
     "data": {
      "image/png": "[encoded data removed]",
      "text/plain": [
       "<Figure size 864x576 with 1 Axes>"
      ]
     },
     "metadata": {
      "needs_background": "light"
     },
     "output_type": "display_data"
    },
    {
     "data": {
      "image/png": "[encoded data removed]",
      "text/plain": [
       "<Figure size 864x576 with 1 Axes>"
      ]
     },
     "metadata": {
      "needs_background": "light"
     },
     "output_type": "display_data"
    }
   ],
   "source": [
    "# The history.history[\"loss\"] entry is a dictionary with as many values as epochs that the\n",
    "# model was trained on. \n",
    "df_loss_acc = pd.DataFrame(history.history)\n",
    "df_loss= df_loss_acc[['loss','val_loss']]\n",
    "df_loss.rename(columns={'loss':'train','val_loss':'validation'},inplace=True)\n",
    "df_acc= df_loss_acc[['accuracy','val_accuracy']]\n",
    "df_acc.rename(columns={'accuracy':'train','val_accuracy':'validation'},inplace=True)\n",
    "df_loss.plot(title='Model loss',figsize=(12,8)).set(xlabel='Epoch',ylabel='Loss')\n",
    "df_acc.plot(title='Model Accuracy',figsize=(12,8)).set(xlabel='Epoch',ylabel='Accuracy')"
   ]
  },
  {
   "cell_type": "markdown",
   "metadata": {},
   "source": [
    "**Congratulations**! You've finished the assignment and built two models: One that recognizes  smiles, and another that recognizes SIGN language with almost 80% accuracy on the test set. In addition to that, you now also understand the applications of two Keras APIs: Sequential and Functional. Nicely done! \n",
    "\n",
    "By now, you know a bit about how the Functional API works and may have glimpsed the possibilities. In your next assignment, you'll really get a feel for its power when you get the opportunity to build a very deep ConvNet, using ResNets! "
   ]
  },
  {
   "cell_type": "markdown",
   "metadata": {},
   "source": [
    "<a name='6'></a>\n",
    "## 6 - Bibliography\n",
    "\n",
    "You're always encouraged to read the official documentation. To that end, you can find the docs for the Sequential and Functional APIs here: \n",
    "\n",
    "https://www.tensorflow.org/guide/keras/sequential_model\n",
    "\n",
    "https://www.tensorflow.org/guide/keras/functional"
   ]
  }
 ],
 "metadata": {
  "coursera": {
   "course_slug": "convolutional-neural-networks",
   "graded_item_id": "bwbJV",
   "launcher_item_id": "0TkXB"
  },
  "kernelspec": {
   "display_name": "Python 3",
   "language": "python",
   "name": "python3"
  },
  "language_info": {
   "codemirror_mode": {
    "name": "ipython",
    "version": 3
   },
   "file_extension": ".py",
   "mimetype": "text/x-python",
   "name": "python",
   "nbconvert_exporter": "python",
   "pygments_lexer": "ipython3",
   "version": "3.7.6"
  }
 },
 "nbformat": 4,
 "nbformat_minor": 2
}
